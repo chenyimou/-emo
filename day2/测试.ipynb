{
 "cells": [
  {
   "cell_type": "code",
   "id": "initial_id",
   "metadata": {
    "collapsed": true,
    "ExecuteTime": {
     "end_time": "2025-06-29T07:41:14.081459Z",
     "start_time": "2025-06-29T07:41:13.110175Z"
    }
   },
   "source": [
    "# %% [markdown]\n",
    "## 作业3：数组运算与广播\n",
    "# 任务描述：创建两个数组：\n",
    "# - 数组 A：3x2 的二维数组，元素为 1 到 6\n",
    "# - 数组 B：一维数组，包含元素 [10, 20]\n",
    "#\n",
    "# 完成以下任务：\n",
    "# 1. 计算 A 和 B 的逐元素相加（利用广播）\n",
    "# 2. 计算 A 和 B 的逐元素相乘（利用广播）\n",
    "# 3. 计算 A 的每一行与 B 的点积\n",
    "\n",
    "# %%\n",
    "import numpy as np\n",
    "import matplotlib.pyplot as plt\n",
    "from IPython.display import display, Markdown\n",
    "\n",
    "# %% [markdown]\n",
    "### 1. 创建数组\n",
    "# %%\n",
    "# 创建数组A (3x2)\n",
    "A = np.arange(1, 7).reshape(3, 2)\n",
    "# 创建数组B (1x2)\n",
    "B = np.array([10, 20])\n",
    "\n",
    "# 显示数组\n",
    "display(Markdown(\"**数组A (3×2):**\"))\n",
    "display(A)\n",
    "\n",
    "display(Markdown(\"**数组B (1×2):**\"))\n",
    "display(B)\n",
    "\n",
    "# %% [markdown]\n",
    "### 2. 可视化数组\n",
    "# %%\n",
    "# 创建可视化\n",
    "fig, axes = plt.subplots(1, 3, figsize=(15, 5))\n",
    "\n",
    "# 绘制数组A\n",
    "im1 = axes[0].imshow(A, cmap='viridis', vmin=0, vmax=20)\n",
    "axes[0].set_title('数组A (3×2)')\n",
    "axes[0].set_xticks([0, 1])\n",
    "axes[0].set_yticks([0, 1, 2])\n",
    "axes[0].set_xticklabels(['列1', '列2'])\n",
    "axes[0].set_yticklabels(['行1', '行2', '行3'])\n",
    "for i in range(3):\n",
    "    for j in range(2):\n",
    "        axes[0].text(j, i, A[i, j], ha='center', va='center', color='w')\n",
    "\n",
    "# 绘制数组B\n",
    "im2 = axes[1].imshow(B.reshape(1, 2), cmap='plasma', vmin=0, vmax=20)\n",
    "axes[1].set_title('数组B (1×2)')\n",
    "axes[1].set_xticks([0, 1])\n",
    "axes[1].set_yticks([0])\n",
    "axes[1].set_xticklabels(['列1', '列2'])\n",
    "axes[1].set_yticklabels(['行1'])\n",
    "for j in range(2):\n",
    "    axes[1].text(j, 0, B[j], ha='center', va='center', color='w')\n",
    "\n",
    "# 绘制广播效果\n",
    "broadcasted_B = np.tile(B, (3, 1))\n",
    "im3 = axes[2].imshow(broadcasted_B, cmap='plasma', vmin=0, vmax=20)\n",
    "axes[2].set_title('广播后的数组B (3×2)')\n",
    "axes[2].set_xticks([0, 1])\n",
    "axes[2].set_yticks([0, 1, 2])\n",
    "axes[2].set_xticklabels(['列1', '列2'])\n",
    "axes[2].set_yticklabels(['行1', '行2', '行3'])\n",
    "for i in range(3):\n",
    "    for j in range(2):\n",
    "        axes[2].text(j, i, B[j], ha='center', va='center', color='w')\n",
    "\n",
    "plt.tight_layout()\n",
    "plt.show()\n",
    "\n",
    "# %% [markdown]\n",
    "### 3. 计算逐元素相加（广播机制）\n",
    "# %%\n",
    "# 计算 A + B\n",
    "add_result = A + B\n",
    "\n",
    "# 显示结果\n",
    "display(Markdown(\"#### 1. 逐元素相加结果 (A + B):\"))\n",
    "display(add_result)\n",
    "\n",
    "# 可视化加法过程\n",
    "fig, ax = plt.subplots(figsize=(8, 4))\n",
    "ax.axis('off')\n",
    "ax.axis('tight')\n",
    "\n",
    "# 创建表格显示计算过程\n",
    "table_data = []\n",
    "for i in range(3):\n",
    "    row = []\n",
    "    for j in range(2):\n",
    "        calc = f\"{A[i, j]} + {B[j]} = {add_result[i, j]}\"\n",
    "        row.append(calc)\n",
    "    table_data.append(row)\n",
    "\n",
    "table = ax.table(cellText=table_data,\n",
    "                 colLabels=['列1', '列2'],\n",
    "                 rowLabels=['行1', '行2', '行3'],\n",
    "                 loc='center',\n",
    "                 cellLoc='center')\n",
    "\n",
    "table.auto_set_font_size(False)\n",
    "table.set_fontsize(14)\n",
    "table.scale(1.5, 1.5)\n",
    "ax.set_title('加法计算过程 (A + B)', fontsize=16)\n",
    "plt.show()\n",
    "\n",
    "# %% [markdown]\n",
    "### 4. 计算逐元素相乘（广播机制）\n",
    "# %%\n",
    "# 计算 A * B\n",
    "mul_result = A * B\n",
    "\n",
    "# 显示结果\n",
    "display(Markdown(\"#### 2. 逐元素相乘结果 (A * B):\"))\n",
    "display(mul_result)\n",
    "\n",
    "# 可视化乘法过程\n",
    "fig, ax = plt.subplots(figsize=(8, 4))\n",
    "ax.axis('off')\n",
    "ax.axis('tight')\n",
    "\n",
    "# 创建表格显示计算过程\n",
    "table_data = []\n",
    "for i in range(3):\n",
    "    row = []\n",
    "    for j in range(2):\n",
    "        calc = f\"{A[i, j]} × {B[j]} = {mul_result[i, j]}\"\n",
    "        row.append(calc)\n",
    "    table_data.append(row)\n",
    "\n",
    "table = ax.table(cellText=table_data,\n",
    "                 colLabels=['列1', '列2'],\n",
    "                 rowLabels=['行1', '行2', '行3'],\n",
    "                 loc='center',\n",
    "                 cellLoc='center')\n",
    "\n",
    "table.auto_set_font_size(False)\n",
    "table.set_fontsize(14)\n",
    "table.scale(1.5, 1.5)\n",
    "ax.set_title('乘法计算过程 (A × B)', fontsize=16)\n",
    "plt.show()\n",
    "\n",
    "# %% [markdown]\n",
    "### 5. 计算点积（矩阵乘法）\n",
    "# %%\n",
    "# 计算点积 (A每行与B的点积)\n",
    "dot_result = np.dot(A, B)\n",
    "\n",
    "# 显示结果\n",
    "display(Markdown(\"#### 3. A每行与B的点积:\"))\n",
    "display(dot_result)\n",
    "\n",
    "# 可视化点积计算\n",
    "fig, ax = plt.subplots(figsize=(10, 6))\n",
    "ax.axis('off')\n",
    "\n",
    "# 添加标题\n",
    "ax.text(0.5, 0.9, \"点积计算过程 (A每行与B的点积)\",\n",
    "        ha='center', va='center', fontsize=18, fontweight='bold')\n",
    "\n",
    "# 绘制矩阵A\n",
    "ax.text(0.2, 0.7, \"A =\", fontsize=16, ha='right')\n",
    "for i in range(3):\n",
    "    for j in range(2):\n",
    "        ax.text(0.3 + j*0.1, 0.7 - i*0.1, f\"{A[i, j]}\",\n",
    "                fontsize=14, bbox=dict(facecolor='lightblue', alpha=0.5))\n",
    "\n",
    "# 绘制向量B\n",
    "ax.text(0.2, 0.4, \"B =\", fontsize=16, ha='right')\n",
    "for j in range(2):\n",
    "    ax.text(0.3 + j*0.1, 0.4, f\"{B[j]}\",\n",
    "            fontsize=14, bbox=dict(facecolor='lightgreen', alpha=0.5))\n",
    "\n",
    "# 绘制点积公式\n",
    "ax.text(0.2, 0.2, \"点积 =\", fontsize=16, ha='right')\n",
    "for i in range(3):\n",
    "    formula = f\"({A[i, 0]}×{B[0]}) + ({A[i, 1]}×{B[1]}) = {dot_result[i]}\"\n",
    "    ax.text(0.3, 0.2 - i*0.1, formula, fontsize=14)\n",
    "\n",
    "plt.show()\n",
    "\n",
    "# %% [markdown]\n",
    "### 6. 广播机制说明\n",
    "# %%\n",
    "display(Markdown(\"### 广播机制说明\"))\n",
    "\n",
    "display(Markdown(\"广播是NumPy对不同形状数组进行数值计算的方式。当两个数组形状不同时，NumPy会尝试扩展较小的数组以匹配较大数组的形状。\"))\n",
    "\n",
    "display(Markdown(\"**广播规则:**\"))\n",
    "display(Markdown(\"1. 如果两个数组的维度数不同，形状中维度不足的数组会在前面补1\"))\n",
    "display(Markdown(\"2. 如果两个数组在某个维度上的长度相同或其中一个为1，则认为它们是兼容的\"))\n",
    "display(Markdown(\"3. 数组在维度大小为1的方向上复制数据以匹配另一个数组\"))\n",
    "\n",
    "display(Markdown(\"**本例中的广播过程:**\"))\n",
    "display(Markdown(\"- 数组A形状: (3, 2)\"))\n",
    "display(Markdown(\"- 数组B形状: (2,)\"))\n",
    "display(Markdown(\"- 广播步骤:\"))\n",
    "display(Markdown(\"  1. B的形状从(2,)变为(1, 2)\"))\n",
    "display(Markdown(\"  2. B在第一个维度上复制3次以匹配A的形状(3, 2)\"))\n",
    "\n",
    "display(Markdown(\"**广播后的B数组:**\"))\n",
    "display(np.tile(B, (3, 1)))"
   ],
   "outputs": [
    {
     "data": {
      "text/plain": [
       "<IPython.core.display.Markdown object>"
      ],
      "text/markdown": "**数组A (3×2):**"
     },
     "metadata": {},
     "output_type": "display_data"
    },
    {
     "data": {
      "text/plain": [
       "array([[1, 2],\n",
       "       [3, 4],\n",
       "       [5, 6]])"
      ]
     },
     "metadata": {},
     "output_type": "display_data"
    },
    {
     "data": {
      "text/plain": [
       "<IPython.core.display.Markdown object>"
      ],
      "text/markdown": "**数组B (1×2):**"
     },
     "metadata": {},
     "output_type": "display_data"
    },
    {
     "data": {
      "text/plain": [
       "array([10, 20])"
      ]
     },
     "metadata": {},
     "output_type": "display_data"
    },
    {
     "name": "stderr",
     "output_type": "stream",
     "text": [
      "C:\\Users\\21923\\AppData\\Local\\Temp\\ipykernel_25212\\3503665900.py:71: UserWarning: Glyph 21015 (\\N{CJK UNIFIED IDEOGRAPH-5217}) missing from font(s) DejaVu Sans.\n",
      "  plt.tight_layout()\n",
      "C:\\Users\\21923\\AppData\\Local\\Temp\\ipykernel_25212\\3503665900.py:71: UserWarning: Glyph 34892 (\\N{CJK UNIFIED IDEOGRAPH-884C}) missing from font(s) DejaVu Sans.\n",
      "  plt.tight_layout()\n",
      "C:\\Users\\21923\\AppData\\Local\\Temp\\ipykernel_25212\\3503665900.py:71: UserWarning: Glyph 25968 (\\N{CJK UNIFIED IDEOGRAPH-6570}) missing from font(s) DejaVu Sans.\n",
      "  plt.tight_layout()\n",
      "C:\\Users\\21923\\AppData\\Local\\Temp\\ipykernel_25212\\3503665900.py:71: UserWarning: Glyph 32452 (\\N{CJK UNIFIED IDEOGRAPH-7EC4}) missing from font(s) DejaVu Sans.\n",
      "  plt.tight_layout()\n",
      "C:\\Users\\21923\\AppData\\Local\\Temp\\ipykernel_25212\\3503665900.py:71: UserWarning: Glyph 24191 (\\N{CJK UNIFIED IDEOGRAPH-5E7F}) missing from font(s) DejaVu Sans.\n",
      "  plt.tight_layout()\n",
      "C:\\Users\\21923\\AppData\\Local\\Temp\\ipykernel_25212\\3503665900.py:71: UserWarning: Glyph 25773 (\\N{CJK UNIFIED IDEOGRAPH-64AD}) missing from font(s) DejaVu Sans.\n",
      "  plt.tight_layout()\n",
      "C:\\Users\\21923\\AppData\\Local\\Temp\\ipykernel_25212\\3503665900.py:71: UserWarning: Glyph 21518 (\\N{CJK UNIFIED IDEOGRAPH-540E}) missing from font(s) DejaVu Sans.\n",
      "  plt.tight_layout()\n",
      "C:\\Users\\21923\\AppData\\Local\\Temp\\ipykernel_25212\\3503665900.py:71: UserWarning: Glyph 30340 (\\N{CJK UNIFIED IDEOGRAPH-7684}) missing from font(s) DejaVu Sans.\n",
      "  plt.tight_layout()\n",
      "D:\\an\\.venv\\Lib\\site-packages\\IPython\\core\\pylabtools.py:170: UserWarning: Glyph 34892 (\\N{CJK UNIFIED IDEOGRAPH-884C}) missing from font(s) DejaVu Sans.\n",
      "  fig.canvas.print_figure(bytes_io, **kw)\n",
      "D:\\an\\.venv\\Lib\\site-packages\\IPython\\core\\pylabtools.py:170: UserWarning: Glyph 25968 (\\N{CJK UNIFIED IDEOGRAPH-6570}) missing from font(s) DejaVu Sans.\n",
      "  fig.canvas.print_figure(bytes_io, **kw)\n",
      "D:\\an\\.venv\\Lib\\site-packages\\IPython\\core\\pylabtools.py:170: UserWarning: Glyph 32452 (\\N{CJK UNIFIED IDEOGRAPH-7EC4}) missing from font(s) DejaVu Sans.\n",
      "  fig.canvas.print_figure(bytes_io, **kw)\n",
      "D:\\an\\.venv\\Lib\\site-packages\\IPython\\core\\pylabtools.py:170: UserWarning: Glyph 21015 (\\N{CJK UNIFIED IDEOGRAPH-5217}) missing from font(s) DejaVu Sans.\n",
      "  fig.canvas.print_figure(bytes_io, **kw)\n",
      "D:\\an\\.venv\\Lib\\site-packages\\IPython\\core\\pylabtools.py:170: UserWarning: Glyph 24191 (\\N{CJK UNIFIED IDEOGRAPH-5E7F}) missing from font(s) DejaVu Sans.\n",
      "  fig.canvas.print_figure(bytes_io, **kw)\n",
      "D:\\an\\.venv\\Lib\\site-packages\\IPython\\core\\pylabtools.py:170: UserWarning: Glyph 25773 (\\N{CJK UNIFIED IDEOGRAPH-64AD}) missing from font(s) DejaVu Sans.\n",
      "  fig.canvas.print_figure(bytes_io, **kw)\n",
      "D:\\an\\.venv\\Lib\\site-packages\\IPython\\core\\pylabtools.py:170: UserWarning: Glyph 21518 (\\N{CJK UNIFIED IDEOGRAPH-540E}) missing from font(s) DejaVu Sans.\n",
      "  fig.canvas.print_figure(bytes_io, **kw)\n",
      "D:\\an\\.venv\\Lib\\site-packages\\IPython\\core\\pylabtools.py:170: UserWarning: Glyph 30340 (\\N{CJK UNIFIED IDEOGRAPH-7684}) missing from font(s) DejaVu Sans.\n",
      "  fig.canvas.print_figure(bytes_io, **kw)\n"
     ]
    },
    {
     "data": {
      "text/plain": [
       "<Figure size 1500x500 with 3 Axes>"
      ],
      "image/png": "[encoded data removed]"
     },
     "metadata": {},
     "output_type": "display_data"
    },
    {
     "data": {
      "text/plain": [
       "<IPython.core.display.Markdown object>"
      ],
      "text/markdown": "#### 1. 逐元素相加结果 (A + B):"
     },
     "metadata": {},
     "output_type": "display_data"
    },
    {
     "data": {
      "text/plain": [
       "array([[11, 22],\n",
       "       [13, 24],\n",
       "       [15, 26]])"
      ]
     },
     "metadata": {},
     "output_type": "display_data"
    },
    {
     "name": "stderr",
     "output_type": "stream",
     "text": [
      "D:\\an\\.venv\\Lib\\site-packages\\IPython\\core\\pylabtools.py:170: UserWarning: Glyph 21152 (\\N{CJK UNIFIED IDEOGRAPH-52A0}) missing from font(s) DejaVu Sans.\n",
      "  fig.canvas.print_figure(bytes_io, **kw)\n",
      "D:\\an\\.venv\\Lib\\site-packages\\IPython\\core\\pylabtools.py:170: UserWarning: Glyph 27861 (\\N{CJK UNIFIED IDEOGRAPH-6CD5}) missing from font(s) DejaVu Sans.\n",
      "  fig.canvas.print_figure(bytes_io, **kw)\n",
      "D:\\an\\.venv\\Lib\\site-packages\\IPython\\core\\pylabtools.py:170: UserWarning: Glyph 35745 (\\N{CJK UNIFIED IDEOGRAPH-8BA1}) missing from font(s) DejaVu Sans.\n",
      "  fig.canvas.print_figure(bytes_io, **kw)\n",
      "D:\\an\\.venv\\Lib\\site-packages\\IPython\\core\\pylabtools.py:170: UserWarning: Glyph 31639 (\\N{CJK UNIFIED IDEOGRAPH-7B97}) missing from font(s) DejaVu Sans.\n",
      "  fig.canvas.print_figure(bytes_io, **kw)\n",
      "D:\\an\\.venv\\Lib\\site-packages\\IPython\\core\\pylabtools.py:170: UserWarning: Glyph 36807 (\\N{CJK UNIFIED IDEOGRAPH-8FC7}) missing from font(s) DejaVu Sans.\n",
      "  fig.canvas.print_figure(bytes_io, **kw)\n",
      "D:\\an\\.venv\\Lib\\site-packages\\IPython\\core\\pylabtools.py:170: UserWarning: Glyph 31243 (\\N{CJK UNIFIED IDEOGRAPH-7A0B}) missing from font(s) DejaVu Sans.\n",
      "  fig.canvas.print_figure(bytes_io, **kw)\n"
     ]
    },
    {
     "data": {
      "text/plain": [
       "<Figure size 800x400 with 1 Axes>"
      ],
      "image/png": "[encoded data removed]"
     },
     "metadata": {},
     "output_type": "display_data"
    },
    {
     "data": {
      "text/plain": [
       "<IPython.core.display.Markdown object>"
      ],
      "text/markdown": "#### 2. 逐元素相乘结果 (A * B):"
     },
     "metadata": {},
     "output_type": "display_data"
    },
    {
     "data": {
      "text/plain": [
       "array([[ 10,  40],\n",
       "       [ 30,  80],\n",
       "       [ 50, 120]])"
      ]
     },
     "metadata": {},
     "output_type": "display_data"
    },
    {
     "name": "stderr",
     "output_type": "stream",
     "text": [
      "D:\\an\\.venv\\Lib\\site-packages\\IPython\\core\\pylabtools.py:170: UserWarning: Glyph 20056 (\\N{CJK UNIFIED IDEOGRAPH-4E58}) missing from font(s) DejaVu Sans.\n",
      "  fig.canvas.print_figure(bytes_io, **kw)\n"
     ]
    },
    {
     "data": {
      "text/plain": [
       "<Figure size 800x400 with 1 Axes>"
      ],
      "image/png": "[encoded data removed]"
     },
     "metadata": {},
     "output_type": "display_data"
    },
    {
     "data": {
      "text/plain": [
       "<IPython.core.display.Markdown object>"
      ],
      "text/markdown": "#### 3. A每行与B的点积:"
     },
     "metadata": {},
     "output_type": "display_data"
    },
    {
     "data": {
      "text/plain": [
       "array([ 50, 110, 170])"
      ]
     },
     "metadata": {},
     "output_type": "display_data"
    },
    {
     "name": "stderr",
     "output_type": "stream",
     "text": [
      "D:\\an\\.venv\\Lib\\site-packages\\IPython\\core\\pylabtools.py:170: UserWarning: Glyph 28857 (\\N{CJK UNIFIED IDEOGRAPH-70B9}) missing from font(s) DejaVu Sans.\n",
      "  fig.canvas.print_figure(bytes_io, **kw)\n",
      "D:\\an\\.venv\\Lib\\site-packages\\IPython\\core\\pylabtools.py:170: UserWarning: Glyph 31215 (\\N{CJK UNIFIED IDEOGRAPH-79EF}) missing from font(s) DejaVu Sans.\n",
      "  fig.canvas.print_figure(bytes_io, **kw)\n",
      "D:\\an\\.venv\\Lib\\site-packages\\IPython\\core\\pylabtools.py:170: UserWarning: Glyph 27599 (\\N{CJK UNIFIED IDEOGRAPH-6BCF}) missing from font(s) DejaVu Sans.\n",
      "  fig.canvas.print_figure(bytes_io, **kw)\n",
      "D:\\an\\.venv\\Lib\\site-packages\\IPython\\core\\pylabtools.py:170: UserWarning: Glyph 19982 (\\N{CJK UNIFIED IDEOGRAPH-4E0E}) missing from font(s) DejaVu Sans.\n",
      "  fig.canvas.print_figure(bytes_io, **kw)\n"
     ]
    },
    {
     "data": {
      "text/plain": [
       "<Figure size 1000x600 with 1 Axes>"
      ],
      "image/png": "[encoded data removed]"
     },
     "metadata": {},
     "output_type": "display_data"
    },
    {
     "data": {
      "text/plain": [
       "<IPython.core.display.Markdown object>"
      ],
      "text/markdown": "### 广播机制说明"
     },
     "metadata": {},
     "output_type": "display_data"
    },
    {
     "data": {
      "text/plain": [
       "<IPython.core.display.Markdown object>"
      ],
      "text/markdown": "广播是NumPy对不同形状数组进行数值计算的方式。当两个数组形状不同时，NumPy会尝试扩展较小的数组以匹配较大数组的形状。"
     },
     "metadata": {},
     "output_type": "display_data"
    },
    {
     "data": {
      "text/plain": [
       "<IPython.core.display.Markdown object>"
      ],
      "text/markdown": "**广播规则:**"
     },
     "metadata": {},
     "output_type": "display_data"
    },
    {
     "data": {
      "text/plain": [
       "<IPython.core.display.Markdown object>"
      ],
      "text/markdown": "1. 如果两个数组的维度数不同，形状中维度不足的数组会在前面补1"
     },
     "metadata": {},
     "output_type": "display_data"
    },
    {
     "data": {
      "text/plain": [
       "<IPython.core.display.Markdown object>"
      ],
      "text/markdown": "2. 如果两个数组在某个维度上的长度相同或其中一个为1，则认为它们是兼容的"
     },
     "metadata": {},
     "output_type": "display_data"
    },
    {
     "data": {
      "text/plain": [
       "<IPython.core.display.Markdown object>"
      ],
      "text/markdown": "3. 数组在维度大小为1的方向上复制数据以匹配另一个数组"
     },
     "metadata": {},
     "output_type": "display_data"
    },
    {
     "data": {
      "text/plain": [
       "<IPython.core.display.Markdown object>"
      ],
      "text/markdown": "**本例中的广播过程:**"
     },
     "metadata": {},
     "output_type": "display_data"
    },
    {
     "data": {
      "text/plain": [
       "<IPython.core.display.Markdown object>"
      ],
      "text/markdown": "- 数组A形状: (3, 2)"
     },
     "metadata": {},
     "output_type": "display_data"
    },
    {
     "data": {
      "text/plain": [
       "<IPython.core.display.Markdown object>"
      ],
      "text/markdown": "- 数组B形状: (2,)"
     },
     "metadata": {},
     "output_type": "display_data"
    },
    {
     "data": {
      "text/plain": [
       "<IPython.core.display.Markdown object>"
      ],
      "text/markdown": "- 广播步骤:"
     },
     "metadata": {},
     "output_type": "display_data"
    },
    {
     "data": {
      "text/plain": [
       "<IPython.core.display.Markdown object>"
      ],
      "text/markdown": "  1. B的形状从(2,)变为(1, 2)"
     },
     "metadata": {},
     "output_type": "display_data"
    },
    {
     "data": {
      "text/plain": [
       "<IPython.core.display.Markdown object>"
      ],
      "text/markdown": "  2. B在第一个维度上复制3次以匹配A的形状(3, 2)"
     },
     "metadata": {},
     "output_type": "display_data"
    },
    {
     "data": {
      "text/plain": [
       "<IPython.core.display.Markdown object>"
      ],
      "text/markdown": "**广播后的B数组:**"
     },
     "metadata": {},
     "output_type": "display_data"
    },
    {
     "data": {
      "text/plain": [
       "array([[10, 20],\n",
       "       [10, 20],\n",
       "       [10, 20]])"
      ]
     },
     "metadata": {},
     "output_type": "display_data"
    }
   ],
   "execution_count": 2
  }
 ],
 "metadata": {
  "kernelspec": {
   "display_name": "Python 3",
   "language": "python",
   "name": "python3"
  },
  "language_info": {
   "codemirror_mode": {
    "name": "ipython",
    "version": 2
   },
   "file_extension": ".py",
   "mimetype": "text/x-python",
   "name": "python",
   "nbconvert_exporter": "python",
   "pygments_lexer": "ipython2",
   "version": "2.7.6"
  }
 },
 "nbformat": 4,
 "nbformat_minor": 5
}
